{
 "cells": [
  {
   "cell_type": "code",
   "execution_count": 7,
   "metadata": {},
   "outputs": [
    {
     "name": "stdout",
     "output_type": "stream",
     "text": [
      "The autoreload extension is already loaded. To reload it, use:\n",
      "  %reload_ext autoreload\n"
     ]
    }
   ],
   "source": [
    "%load_ext autoreload\n",
    "%autoreload 2\n",
    "%matplotlib inline"
   ]
  },
  {
   "cell_type": "code",
   "execution_count": 8,
   "metadata": {},
   "outputs": [],
   "source": [
    "import pandas as pd\n",
    "import numpy as np\n",
    "from sklearn.preprocessing import LabelEncoder\n",
    "from sklearn.model_selection import train_test_split\n",
    "from tqdm import tqdm"
   ]
  },
  {
   "cell_type": "markdown",
   "metadata": {},
   "source": [
    "# Load, process data"
   ]
  },
  {
   "cell_type": "code",
   "execution_count": 9,
   "metadata": {},
   "outputs": [],
   "source": [
    "ratings = pd.read_csv(\"ml-latest-small/ratings.csv\")"
   ]
  },
  {
   "cell_type": "code",
   "execution_count": 10,
   "metadata": {},
   "outputs": [
    {
     "data": {
      "text/html": [
       "<div>\n",
       "<style scoped>\n",
       "    .dataframe tbody tr th:only-of-type {\n",
       "        vertical-align: middle;\n",
       "    }\n",
       "\n",
       "    .dataframe tbody tr th {\n",
       "        vertical-align: top;\n",
       "    }\n",
       "\n",
       "    .dataframe thead th {\n",
       "        text-align: right;\n",
       "    }\n",
       "</style>\n",
       "<table border=\"1\" class=\"dataframe\">\n",
       "  <thead>\n",
       "    <tr style=\"text-align: right;\">\n",
       "      <th></th>\n",
       "      <th>userId</th>\n",
       "      <th>movieId</th>\n",
       "      <th>rating</th>\n",
       "      <th>timestamp</th>\n",
       "    </tr>\n",
       "  </thead>\n",
       "  <tbody>\n",
       "    <tr>\n",
       "      <th>0</th>\n",
       "      <td>1</td>\n",
       "      <td>1</td>\n",
       "      <td>4.0</td>\n",
       "      <td>964982703</td>\n",
       "    </tr>\n",
       "    <tr>\n",
       "      <th>1</th>\n",
       "      <td>1</td>\n",
       "      <td>3</td>\n",
       "      <td>4.0</td>\n",
       "      <td>964981247</td>\n",
       "    </tr>\n",
       "    <tr>\n",
       "      <th>2</th>\n",
       "      <td>1</td>\n",
       "      <td>6</td>\n",
       "      <td>4.0</td>\n",
       "      <td>964982224</td>\n",
       "    </tr>\n",
       "    <tr>\n",
       "      <th>3</th>\n",
       "      <td>1</td>\n",
       "      <td>47</td>\n",
       "      <td>5.0</td>\n",
       "      <td>964983815</td>\n",
       "    </tr>\n",
       "    <tr>\n",
       "      <th>4</th>\n",
       "      <td>1</td>\n",
       "      <td>50</td>\n",
       "      <td>5.0</td>\n",
       "      <td>964982931</td>\n",
       "    </tr>\n",
       "    <tr>\n",
       "      <th>...</th>\n",
       "      <td>...</td>\n",
       "      <td>...</td>\n",
       "      <td>...</td>\n",
       "      <td>...</td>\n",
       "    </tr>\n",
       "    <tr>\n",
       "      <th>100831</th>\n",
       "      <td>610</td>\n",
       "      <td>166534</td>\n",
       "      <td>4.0</td>\n",
       "      <td>1493848402</td>\n",
       "    </tr>\n",
       "    <tr>\n",
       "      <th>100832</th>\n",
       "      <td>610</td>\n",
       "      <td>168248</td>\n",
       "      <td>5.0</td>\n",
       "      <td>1493850091</td>\n",
       "    </tr>\n",
       "    <tr>\n",
       "      <th>100833</th>\n",
       "      <td>610</td>\n",
       "      <td>168250</td>\n",
       "      <td>5.0</td>\n",
       "      <td>1494273047</td>\n",
       "    </tr>\n",
       "    <tr>\n",
       "      <th>100834</th>\n",
       "      <td>610</td>\n",
       "      <td>168252</td>\n",
       "      <td>5.0</td>\n",
       "      <td>1493846352</td>\n",
       "    </tr>\n",
       "    <tr>\n",
       "      <th>100835</th>\n",
       "      <td>610</td>\n",
       "      <td>170875</td>\n",
       "      <td>3.0</td>\n",
       "      <td>1493846415</td>\n",
       "    </tr>\n",
       "  </tbody>\n",
       "</table>\n",
       "<p>100836 rows × 4 columns</p>\n",
       "</div>"
      ],
      "text/plain": [
       "        userId  movieId  rating   timestamp\n",
       "0            1        1     4.0   964982703\n",
       "1            1        3     4.0   964981247\n",
       "2            1        6     4.0   964982224\n",
       "3            1       47     5.0   964983815\n",
       "4            1       50     5.0   964982931\n",
       "...        ...      ...     ...         ...\n",
       "100831     610   166534     4.0  1493848402\n",
       "100832     610   168248     5.0  1493850091\n",
       "100833     610   168250     5.0  1494273047\n",
       "100834     610   168252     5.0  1493846352\n",
       "100835     610   170875     3.0  1493846415\n",
       "\n",
       "[100836 rows x 4 columns]"
      ]
     },
     "execution_count": 10,
     "metadata": {},
     "output_type": "execute_result"
    }
   ],
   "source": [
    "ratings"
   ]
  },
  {
   "cell_type": "code",
   "execution_count": 11,
   "metadata": {},
   "outputs": [],
   "source": [
    "ratings.columns = [\"user_id\", \"item_id\", \"rating\", \"timestamp\"]"
   ]
  },
  {
   "cell_type": "code",
   "execution_count": 12,
   "metadata": {},
   "outputs": [
    {
     "data": {
      "text/plain": [
       "9724"
      ]
     },
     "execution_count": 12,
     "metadata": {},
     "output_type": "execute_result"
    }
   ],
   "source": [
    "ratings.item_id.nunique()"
   ]
  },
  {
   "cell_type": "code",
   "execution_count": 13,
   "metadata": {},
   "outputs": [
    {
     "data": {
      "text/plain": [
       "<Axes: >"
      ]
     },
     "execution_count": 13,
     "metadata": {},
     "output_type": "execute_result"
    },
    {
     "data": {
      "image/png": "[encoded data removed]",
      "text/plain": [
       "<Figure size 640x480 with 1 Axes>"
      ]
     },
     "metadata": {},
     "output_type": "display_data"
    }
   ],
   "source": [
    "ratings.item_id.value_counts().hist(bins=20)"
   ]
  },
  {
   "cell_type": "code",
   "execution_count": 14,
   "metadata": {},
   "outputs": [
    {
     "data": {
      "text/plain": [
       "610"
      ]
     },
     "execution_count": 14,
     "metadata": {},
     "output_type": "execute_result"
    }
   ],
   "source": [
    "ratings.user_id.nunique()"
   ]
  },
  {
   "cell_type": "code",
   "execution_count": 15,
   "metadata": {},
   "outputs": [
    {
     "data": {
      "text/plain": [
       "<Axes: >"
      ]
     },
     "execution_count": 15,
     "metadata": {},
     "output_type": "execute_result"
    },
    {
     "data": {
      "image/png": "[encoded data removed]",
      "text/plain": [
       "<Figure size 640x480 with 1 Axes>"
      ]
     },
     "metadata": {},
     "output_type": "display_data"
    }
   ],
   "source": [
    "ratings.user_id.value_counts().hist(bins=20)"
   ]
  },
  {
   "cell_type": "code",
   "execution_count": 16,
   "metadata": {},
   "outputs": [
    {
     "data": {
      "text/plain": [
       "100836"
      ]
     },
     "execution_count": 16,
     "metadata": {},
     "output_type": "execute_result"
    }
   ],
   "source": [
    "len(ratings)"
   ]
  },
  {
   "cell_type": "code",
   "execution_count": 17,
   "metadata": {},
   "outputs": [],
   "source": [
    "ratings = ratings.drop('timestamp', axis=1)"
   ]
  },
  {
   "cell_type": "code",
   "execution_count": 18,
   "metadata": {},
   "outputs": [],
   "source": [
    "user_encoder = LabelEncoder()\n",
    "item_encoder = LabelEncoder()\n",
    "users_encoded = user_encoder.fit_transform(ratings.user_id)\n",
    "items_encoded = item_encoder.fit_transform(ratings.item_id)\n",
    "ratings.user_id = users_encoded\n",
    "ratings.item_id = items_encoded"
   ]
  },
  {
   "cell_type": "code",
   "execution_count": 19,
   "metadata": {},
   "outputs": [],
   "source": [
    "\"\"\"\n",
    "notice how we could have used different strategies for the split.\n",
    "1. By time\n",
    "2. by user (to have not observed users yet) or item\n",
    "3. what we did: have few items missing for each user\n",
    "\"\"\"\n",
    "\n",
    "train_ratings, test_ratings = train_test_split(ratings, test_size=0.2, random_state=42, stratify=ratings.user_id)"
   ]
  },
  {
   "cell_type": "code",
   "execution_count": 20,
   "metadata": {},
   "outputs": [
    {
     "data": {
      "text/plain": [
       "True"
      ]
     },
     "execution_count": 20,
     "metadata": {},
     "output_type": "execute_result"
    }
   ],
   "source": [
    "train_ratings.user_id.nunique() == ratings.user_id.nunique()"
   ]
  },
  {
   "cell_type": "markdown",
   "metadata": {},
   "source": [
    "# Create ratings matrix"
   ]
  },
  {
   "cell_type": "code",
   "execution_count": 64,
   "metadata": {},
   "outputs": [],
   "source": [
    "def create_ratings_matrix(ratings: pd.DataFrame):\n",
    "    # preprocessing step required to be able to use unstack\n",
    "    unique_ratings = ratings.groupby([\"user_id\", \"item_id\"]).mean()\n",
    "    return unique_ratings.unstack().values"
   ]
  },
  {
   "cell_type": "code",
   "execution_count": 65,
   "metadata": {},
   "outputs": [
    {
     "name": "stderr",
     "output_type": "stream",
     "text": [
      "20168it [00:00, 37784.41it/s]\n"
     ]
    }
   ],
   "source": [
    "ratings_matrix = create_ratings_matrix(ratings)\n",
    "for _, test_rating in tqdm(test_ratings.iterrows()):\n",
    "    ratings_matrix[int(test_rating.user_id), int(test_rating.item_id)] = np.nan\n",
    "# train_ratings_matrix = ratings_matrix[train_users, :]\n",
    "# test_ratings_matrix =  ratings_matrix[test_users, :]\n",
    "train_ratings_matrix = ratings_matrix"
   ]
  },
  {
   "cell_type": "markdown",
   "metadata": {},
   "source": [
    "# Basic recommenders"
   ]
  },
  {
   "cell_type": "code",
   "execution_count": 144,
   "metadata": {},
   "outputs": [],
   "source": [
    "from das_recommenders.basic import (\n",
    "    ConstantRecommender,\n",
    "    ItemMeanRecommender,\n",
    "    UserMeanRecommender\n",
    ")\n",
    "from das_recommenders.collaborative_filtering.knn import (\n",
    "    BasicKNNRecommender,\n",
    "    NormalizedKNNRecommender,\n",
    "    WeightedNormKNNRecommender,\n",
    ")\n",
    "from das_recommenders.collaborative_filtering.svd import SVDRecommender\n",
    "from das_recommenders.collaborative_filtering.w2v import W2VRecommender\n",
    "from das_recommenders.collaborative_filtering.ease import EASE\n",
    "from das_recommenders.evaluate import evaluate"
   ]
  },
  {
   "cell_type": "markdown",
   "metadata": {},
   "source": [
    "### Constant"
   ]
  },
  {
   "cell_type": "code",
   "execution_count": 31,
   "metadata": {},
   "outputs": [
    {
     "name": "stderr",
     "output_type": "stream",
     "text": [
      "100%|██████████| 610/610 [00:32<00:00, 18.66it/s]"
     ]
    },
    {
     "name": "stdout",
     "output_type": "stream",
     "text": [
      "RMSE: 1.1537894810582021, MAE: 0.9361612455374851, Recall at 50: 0.0032486275341349485, Precision at 5: 6.265172580926744e-05\n"
     ]
    },
    {
     "name": "stderr",
     "output_type": "stream",
     "text": [
      "\n"
     ]
    }
   ],
   "source": [
    "recommender = ConstantRecommender()\n",
    "recommender.fit(3)\n",
    "evaluate(recommender, train_ratings_matrix, test_ratings)"
   ]
  },
  {
   "cell_type": "markdown",
   "metadata": {},
   "source": [
    "### Constant: Dataset mean"
   ]
  },
  {
   "cell_type": "code",
   "execution_count": 547,
   "metadata": {},
   "outputs": [
    {
     "name": "stderr",
     "output_type": "stream",
     "text": [
      "  4%|▎         | 22/610 [00:00<00:02, 218.85it/s]"
     ]
    },
    {
     "name": "stdout",
     "output_type": "stream",
     "text": [
      "3.501586750632221\n"
     ]
    },
    {
     "name": "stderr",
     "output_type": "stream",
     "text": [
      "100%|██████████| 610/610 [00:02<00:00, 251.46it/s]"
     ]
    },
    {
     "name": "stdout",
     "output_type": "stream",
     "text": [
      "RMSE: 1.037105586796965, MAE: 0.8242853475541899, Recall at 50: 0.0026528556650324904\n"
     ]
    },
    {
     "name": "stderr",
     "output_type": "stream",
     "text": [
      "\n"
     ]
    }
   ],
   "source": [
    "print(train_ratings.rating.mean())\n",
    "recommender = ConstantRecommender()\n",
    "recommender.fit(train_ratings.rating.mean())\n",
    "evaluate(recommender, train_ratings_matrix, test_ratings)"
   ]
  },
  {
   "cell_type": "markdown",
   "metadata": {},
   "source": [
    "### Item mean"
   ]
  },
  {
   "cell_type": "code",
   "execution_count": 549,
   "metadata": {
    "scrolled": true
   },
   "outputs": [
    {
     "name": "stderr",
     "output_type": "stream",
     "text": [
      "100%|██████████| 610/610 [00:02<00:00, 233.42it/s]"
     ]
    },
    {
     "name": "stdout",
     "output_type": "stream",
     "text": [
      "RMSE: 0.9674179355035368, MAE: 0.7454629502501907, Recall at 50: 0.00020386357205668228\n"
     ]
    },
    {
     "name": "stderr",
     "output_type": "stream",
     "text": [
      "\n"
     ]
    }
   ],
   "source": [
    "recommender = ItemMeanRecommender()\n",
    "recommender.fit(train_ratings_matrix)\n",
    "evaluate(recommender, train_ratings_matrix, test_ratings)"
   ]
  },
  {
   "cell_type": "markdown",
   "metadata": {},
   "source": [
    "### User mean"
   ]
  },
  {
   "cell_type": "code",
   "execution_count": 550,
   "metadata": {
    "scrolled": true
   },
   "outputs": [
    {
     "name": "stderr",
     "output_type": "stream",
     "text": [
      "100%|██████████| 610/610 [00:02<00:00, 252.68it/s]"
     ]
    },
    {
     "name": "stdout",
     "output_type": "stream",
     "text": [
      "RMSE: 0.9373131028071089, MAE: 0.7320669707659181, Recall at 50: 0.0026528556650324904\n"
     ]
    },
    {
     "name": "stderr",
     "output_type": "stream",
     "text": [
      "\n"
     ]
    }
   ],
   "source": [
    "recommender = UserMeanRecommender()\n",
    "evaluate(recommender, train_ratings_matrix, test_ratings)"
   ]
  },
  {
   "cell_type": "markdown",
   "metadata": {},
   "source": [
    "# KNN recommenders"
   ]
  },
  {
   "cell_type": "markdown",
   "metadata": {},
   "source": [
    "### Basic average"
   ]
  },
  {
   "cell_type": "code",
   "execution_count": 552,
   "metadata": {
    "scrolled": false
   },
   "outputs": [
    {
     "name": "stderr",
     "output_type": "stream",
     "text": [
      "100%|██████████| 610/610 [01:38<00:00,  6.19it/s]"
     ]
    },
    {
     "name": "stdout",
     "output_type": "stream",
     "text": [
      "RMSE: 1.2297429379279445, MAE: 0.9247355008696178, Recall at 50: 0.02483321065430481\n"
     ]
    },
    {
     "name": "stderr",
     "output_type": "stream",
     "text": [
      "\n"
     ]
    }
   ],
   "source": [
    "recommender = BasicKNNRecommender(similarity_type=\"correlation\")\n",
    "recommender.fit(train_ratings_matrix)\n",
    "evaluate(recommender, train_ratings_matrix, test_ratings)"
   ]
  },
  {
   "cell_type": "markdown",
   "metadata": {},
   "source": [
    "### Normalized average"
   ]
  },
  {
   "cell_type": "code",
   "execution_count": 553,
   "metadata": {
    "scrolled": true
   },
   "outputs": [
    {
     "name": "stderr",
     "output_type": "stream",
     "text": [
      "100%|██████████| 152/152 [00:25<00:00,  5.95it/s]"
     ]
    },
    {
     "name": "stdout",
     "output_type": "stream",
     "text": [
      "RMSE: 1.1663678657726948, MAE: 0.9017855218205657, Recall at 50: 0.02720512299454543\n"
     ]
    },
    {
     "name": "stderr",
     "output_type": "stream",
     "text": [
      "\n"
     ]
    }
   ],
   "source": [
    "recommender = NormalizedKNNRecommender(similarity_type=\"correlation\")\n",
    "recommender.fit(train_ratings_matrix)\n",
    "evaluate(recommender, train_ratings_matrix, test_ratings, fraction=0.25)"
   ]
  },
  {
   "cell_type": "code",
   "execution_count": 554,
   "metadata": {
    "scrolled": true
   },
   "outputs": [
    {
     "name": "stderr",
     "output_type": "stream",
     "text": [
      "100%|██████████| 152/152 [00:14<00:00, 10.36it/s]"
     ]
    },
    {
     "name": "stdout",
     "output_type": "stream",
     "text": [
      "RMSE: 0.9413028886291087, MAE: 0.7147418706389471, Recall at 50: 0.03301097627862756\n"
     ]
    },
    {
     "name": "stderr",
     "output_type": "stream",
     "text": [
      "\n"
     ]
    }
   ],
   "source": [
    "recommender = NormalizedKNNRecommender(similarity_type=\"cosine\")\n",
    "recommender.fit(train_ratings_matrix)\n",
    "evaluate(recommender, train_ratings_matrix, test_ratings, fraction=0.25)"
   ]
  },
  {
   "cell_type": "markdown",
   "metadata": {},
   "source": [
    "### Weighted normalized average"
   ]
  },
  {
   "cell_type": "code",
   "execution_count": 556,
   "metadata": {
    "scrolled": true
   },
   "outputs": [
    {
     "name": "stderr",
     "output_type": "stream",
     "text": [
      "100%|██████████| 152/152 [00:24<00:00,  6.28it/s]"
     ]
    },
    {
     "name": "stdout",
     "output_type": "stream",
     "text": [
      "RMSE: 1.1650176875062734, MAE: 0.9011079563367076, Recall at 50: 0.027117403696299815\n"
     ]
    },
    {
     "name": "stderr",
     "output_type": "stream",
     "text": [
      "\n"
     ]
    }
   ],
   "source": [
    "recommender = WeightedNormKNNRecommender(similarity_type=\"correlation\")\n",
    "recommender.fit(train_ratings_matrix)\n",
    "evaluate(recommender, train_ratings_matrix, test_ratings, fraction=0.25)"
   ]
  },
  {
   "cell_type": "code",
   "execution_count": 557,
   "metadata": {
    "scrolled": true
   },
   "outputs": [
    {
     "name": "stderr",
     "output_type": "stream",
     "text": [
      "100%|██████████| 152/152 [00:25<00:00,  5.85it/s]"
     ]
    },
    {
     "name": "stdout",
     "output_type": "stream",
     "text": [
      "RMSE: 0.9944082610563986, MAE: 0.760695567074061, Recall at 50: 0.006054384974055407\n"
     ]
    },
    {
     "name": "stderr",
     "output_type": "stream",
     "text": [
      "\n"
     ]
    }
   ],
   "source": [
    "recommender = WeightedNormKNNRecommender(similarity_type=\"correlation\", k=100)\n",
    "recommender.fit(train_ratings_matrix)\n",
    "evaluate(recommender, train_ratings_matrix, test_ratings, fraction=0.25)"
   ]
  },
  {
   "cell_type": "code",
   "execution_count": 558,
   "metadata": {
    "scrolled": true
   },
   "outputs": [
    {
     "name": "stderr",
     "output_type": "stream",
     "text": [
      "100%|██████████| 152/152 [00:27<00:00,  5.58it/s]"
     ]
    },
    {
     "name": "stdout",
     "output_type": "stream",
     "text": [
      "RMSE: 0.89757663063764, MAE: 0.6857219502290782, Recall at 50: 0.0017641613502031076\n"
     ]
    },
    {
     "name": "stderr",
     "output_type": "stream",
     "text": [
      "\n"
     ]
    }
   ],
   "source": [
    "recommender = WeightedNormKNNRecommender(similarity_type=\"correlation\", k=200)\n",
    "recommender.fit(train_ratings_matrix)\n",
    "evaluate(recommender, train_ratings_matrix, test_ratings, fraction=0.25)"
   ]
  },
  {
   "cell_type": "code",
   "execution_count": 559,
   "metadata": {
    "scrolled": true
   },
   "outputs": [
    {
     "name": "stderr",
     "output_type": "stream",
     "text": [
      "100%|██████████| 610/610 [01:18<00:00,  7.78it/s]"
     ]
    },
    {
     "name": "stdout",
     "output_type": "stream",
     "text": [
      "RMSE: 0.877438424532398, MAE: 0.6678703803216346, Recall at 50: 0.0011632420072102924\n"
     ]
    },
    {
     "name": "stderr",
     "output_type": "stream",
     "text": [
      "\n"
     ]
    }
   ],
   "source": [
    "recommender = WeightedNormKNNRecommender(similarity_type=\"cosine\", k=200)\n",
    "recommender.fit(train_ratings_matrix)\n",
    "evaluate(recommender, train_ratings_matrix, test_ratings)"
   ]
  },
  {
   "cell_type": "markdown",
   "metadata": {},
   "source": [
    "# SVD\n",
    "Try it with various setting for k (number of factors, spoiler alert 10 is best).\n",
    "\n",
    "Note: this could be improved with some automatized hyper-parameter optimization."
   ]
  },
  {
   "cell_type": "code",
   "execution_count": 592,
   "metadata": {
    "scrolled": true
   },
   "outputs": [
    {
     "name": "stdout",
     "output_type": "stream",
     "text": [
      "performing SVD..\n",
      "2 - 0.13706601156837386\n",
      "0.13706601156837386 - 0.09859692572313226\n",
      "0.09859692572313226 - 0.0741558301286086\n",
      "0.0741558301286086 - 0.057064173183024\n",
      "0.057064173183024 - 0.04460600452130993\n"
     ]
    },
    {
     "name": "stderr",
     "output_type": "stream",
     "text": [
      "  3%|▎         | 20/610 [00:00<00:03, 184.43it/s]"
     ]
    },
    {
     "name": "stdout",
     "output_type": "stream",
     "text": [
      "0.04460600452130993 - 0.035304413030310164\n"
     ]
    },
    {
     "name": "stderr",
     "output_type": "stream",
     "text": [
      "100%|██████████| 610/610 [00:02<00:00, 222.31it/s]"
     ]
    },
    {
     "name": "stdout",
     "output_type": "stream",
     "text": [
      "RMSE: 0.9362803849537101, MAE: 0.7294269612894572, Recall at 50: 0.08885386234813354\n"
     ]
    },
    {
     "name": "stderr",
     "output_type": "stream",
     "text": [
      "\n"
     ]
    }
   ],
   "source": [
    "recommender = SVDRecommender(k=200)\n",
    "recommender.fit(train_ratings_matrix)\n",
    "evaluate(recommender, train_ratings_matrix, test_ratings)"
   ]
  },
  {
   "cell_type": "code",
   "execution_count": 562,
   "metadata": {
    "scrolled": true
   },
   "outputs": [
    {
     "name": "stdout",
     "output_type": "stream",
     "text": [
      "performing SVD..\n",
      "2 - 0.2719631826592722\n",
      "0.2719631826592722 - 0.22764456531627814\n",
      "0.22764456531627814 - 0.19400622484777186\n",
      "0.19400622484777186 - 0.16740323284879638\n",
      "0.16740323284879638 - 0.14593327844915044\n",
      "0.14593327844915044 - 0.12833299699698572\n",
      "0.12833299699698572 - 0.11367538693376013\n",
      "0.11367538693376013 - 0.10132704349781693\n",
      "0.10132704349781693 - 0.0907973384990324\n"
     ]
    },
    {
     "name": "stderr",
     "output_type": "stream",
     "text": [
      "  3%|▎         | 19/610 [00:00<00:03, 187.28it/s]"
     ]
    },
    {
     "name": "stdout",
     "output_type": "stream",
     "text": [
      "0.0907973384990324 - 0.08175503902716325\n"
     ]
    },
    {
     "name": "stderr",
     "output_type": "stream",
     "text": [
      "100%|██████████| 610/610 [00:02<00:00, 206.99it/s]"
     ]
    },
    {
     "name": "stdout",
     "output_type": "stream",
     "text": [
      "RMSE: 0.947699606235797, MAE: 0.7344015997011256, Recall at 50: 0.09877160753527728\n"
     ]
    },
    {
     "name": "stderr",
     "output_type": "stream",
     "text": [
      "\n"
     ]
    }
   ],
   "source": [
    "recommender = SVDRecommender(k=100)\n",
    "recommender.fit(train_ratings_matrix)\n",
    "evaluate(recommender, train_ratings_matrix, test_ratings)"
   ]
  },
  {
   "cell_type": "code",
   "execution_count": 563,
   "metadata": {
    "scrolled": true
   },
   "outputs": [
    {
     "name": "stdout",
     "output_type": "stream",
     "text": [
      "performing SVD..\n",
      "2 - 0.4005921103794706\n",
      "0.4005921103794706 - 0.3628144881516125\n",
      "0.3628144881516125 - 0.3311365713656659\n",
      "0.3311365713656659 - 0.3046420899891876\n",
      "0.3046420899891876 - 0.2822417879907421\n",
      "0.2822417879907421 - 0.2631216478793414\n",
      "0.2631216478793414 - 0.24664960273890088\n",
      "0.24664960273890088 - 0.23226396444221434\n",
      "0.23226396444221434 - 0.21958434514240047\n",
      "0.21958434514240047 - 0.20831889526185077\n",
      "0.20831889526185077 - 0.19821813083795756\n"
     ]
    },
    {
     "name": "stderr",
     "output_type": "stream",
     "text": [
      "  3%|▎         | 20/610 [00:00<00:03, 195.45it/s]"
     ]
    },
    {
     "name": "stdout",
     "output_type": "stream",
     "text": [
      "0.19821813083795756 - 0.1891025871954492\n"
     ]
    },
    {
     "name": "stderr",
     "output_type": "stream",
     "text": [
      "100%|██████████| 610/610 [00:02<00:00, 211.53it/s]"
     ]
    },
    {
     "name": "stdout",
     "output_type": "stream",
     "text": [
      "RMSE: 0.9618984471373583, MAE: 0.7367694351558876, Recall at 50: 0.10588833438046202\n"
     ]
    },
    {
     "name": "stderr",
     "output_type": "stream",
     "text": [
      "\n"
     ]
    }
   ],
   "source": [
    "recommender = SVDRecommender(k=50)\n",
    "recommender.fit(train_ratings_matrix)\n",
    "evaluate(recommender, train_ratings_matrix, test_ratings)"
   ]
  },
  {
   "cell_type": "code",
   "execution_count": 564,
   "metadata": {
    "scrolled": true
   },
   "outputs": [
    {
     "name": "stdout",
     "output_type": "stream",
     "text": [
      "performing SVD..\n",
      "2 - 0.4774894424094742\n",
      "0.4774894424094742 - 0.4439815019783959\n",
      "0.4439815019783959 - 0.4158349197371125\n",
      "0.4158349197371125 - 0.39236476994786035\n",
      "0.39236476994786035 - 0.3727431252617559\n",
      "0.3727431252617559 - 0.35610409845486607\n",
      "0.35610409845486607 - 0.34181421373015375\n",
      "0.34181421373015375 - 0.32935013238427413\n",
      "0.32935013238427413 - 0.3183135436471381\n"
     ]
    },
    {
     "name": "stderr",
     "output_type": "stream",
     "text": [
      "  3%|▎         | 19/610 [00:00<00:03, 183.78it/s]"
     ]
    },
    {
     "name": "stdout",
     "output_type": "stream",
     "text": [
      "0.3183135436471381 - 0.3084059122748499\n"
     ]
    },
    {
     "name": "stderr",
     "output_type": "stream",
     "text": [
      "100%|██████████| 610/610 [00:02<00:00, 220.24it/s]"
     ]
    },
    {
     "name": "stdout",
     "output_type": "stream",
     "text": [
      "RMSE: 0.9427776427626525, MAE: 0.7197256920749353, Recall at 50: 0.11234580718258651\n"
     ]
    },
    {
     "name": "stderr",
     "output_type": "stream",
     "text": [
      "\n"
     ]
    }
   ],
   "source": [
    "recommender = SVDRecommender(k=30)\n",
    "recommender.fit(train_ratings_matrix)\n",
    "evaluate(recommender, train_ratings_matrix, test_ratings)"
   ]
  },
  {
   "cell_type": "code",
   "execution_count": 565,
   "metadata": {
    "scrolled": true
   },
   "outputs": [
    {
     "name": "stdout",
     "output_type": "stream",
     "text": [
      "performing SVD..\n",
      "2 - 0.5607903561583357\n",
      "0.5607903561583357 - 0.5305236507403895\n",
      "0.5305236507403895 - 0.508026306542596\n",
      "0.508026306542596 - 0.48976397097852087\n",
      "0.48976397097852087 - 0.4745547053980569\n",
      "0.4745547053980569 - 0.4617118676482018\n",
      "0.4617118676482018 - 0.45074366876499405\n"
     ]
    },
    {
     "name": "stderr",
     "output_type": "stream",
     "text": [
      "  7%|▋         | 42/610 [00:00<00:02, 198.59it/s]"
     ]
    },
    {
     "name": "stdout",
     "output_type": "stream",
     "text": [
      "0.45074366876499405 - 0.4412285582701423\n"
     ]
    },
    {
     "name": "stderr",
     "output_type": "stream",
     "text": [
      "100%|██████████| 610/610 [00:02<00:00, 209.09it/s]"
     ]
    },
    {
     "name": "stdout",
     "output_type": "stream",
     "text": [
      "RMSE: 0.9125609668511306, MAE: 0.6957822859930554, Recall at 50: 0.1263935999818712\n"
     ]
    },
    {
     "name": "stderr",
     "output_type": "stream",
     "text": [
      "\n"
     ]
    }
   ],
   "source": [
    "recommender = SVDRecommender(k=15)\n",
    "recommender.fit(train_ratings_matrix)\n",
    "evaluate(recommender, train_ratings_matrix, test_ratings)"
   ]
  },
  {
   "cell_type": "code",
   "execution_count": 566,
   "metadata": {
    "scrolled": true
   },
   "outputs": [
    {
     "name": "stdout",
     "output_type": "stream",
     "text": [
      "performing SVD..\n",
      "2 - 0.5951083985690384\n",
      "0.5951083985690384 - 0.5689485782583125\n",
      "0.5689485782583125 - 0.5498154258597291\n",
      "0.5498154258597291 - 0.5344632912715558\n",
      "0.5344632912715558 - 0.5216714111977728\n",
      "0.5216714111977728 - 0.5108120377880324\n"
     ]
    },
    {
     "name": "stderr",
     "output_type": "stream",
     "text": [
      "  3%|▎         | 20/610 [00:00<00:03, 193.22it/s]"
     ]
    },
    {
     "name": "stdout",
     "output_type": "stream",
     "text": [
      "0.5108120377880324 - 0.5015178806852197\n"
     ]
    },
    {
     "name": "stderr",
     "output_type": "stream",
     "text": [
      "100%|██████████| 610/610 [00:02<00:00, 218.02it/s]"
     ]
    },
    {
     "name": "stdout",
     "output_type": "stream",
     "text": [
      "RMSE: 0.8943819982654805, MAE: 0.6847153739993795, Recall at 50: 0.12570607148317262\n"
     ]
    },
    {
     "name": "stderr",
     "output_type": "stream",
     "text": [
      "\n"
     ]
    }
   ],
   "source": [
    "recommender = SVDRecommender(k=10)\n",
    "recommender.fit(train_ratings_matrix)\n",
    "evaluate(recommender, train_ratings_matrix, test_ratings)"
   ]
  },
  {
   "cell_type": "markdown",
   "metadata": {},
   "source": [
    "# EASE"
   ]
  },
  {
   "cell_type": "code",
   "execution_count": 591,
   "metadata": {},
   "outputs": [
    {
     "name": "stderr",
     "output_type": "stream",
     "text": [
      "100%|██████████| 610/610 [00:02<00:00, 208.32it/s]"
     ]
    },
    {
     "name": "stdout",
     "output_type": "stream",
     "text": [
      "RMSE: 0.9358479797267258, MAE: 0.7298167854104668, Recall at 50: 0.3159995721230011\n"
     ]
    },
    {
     "name": "stderr",
     "output_type": "stream",
     "text": [
      "\n"
     ]
    }
   ],
   "source": [
    "recommender = EASE()\n",
    "recommender.fit(train_ratings_matrix)\n",
    "evaluate(recommender, train_ratings_matrix, test_ratings)"
   ]
  },
  {
   "cell_type": "markdown",
   "metadata": {},
   "source": [
    "# big dataset\n",
    "SVD wasn't that accurate on small dataset, let's see if it improves on bigger snapshot of full data."
   ]
  },
  {
   "cell_type": "code",
   "execution_count": 594,
   "metadata": {},
   "outputs": [],
   "source": [
    "big_ratings = pd.read_csv(\"ml-latest-full/ratings.csv\")"
   ]
  },
  {
   "cell_type": "markdown",
   "metadata": {},
   "source": [
    "### Create reasonably sized subset\n",
    "(bigger then ml-latest-small, but small than ml-latest-full)"
   ]
  },
  {
   "cell_type": "code",
   "execution_count": 595,
   "metadata": {},
   "outputs": [],
   "source": [
    "sorted_items = big_ratings.movieId.value_counts().sort_values(ascending=False)"
   ]
  },
  {
   "cell_type": "code",
   "execution_count": 596,
   "metadata": {},
   "outputs": [],
   "source": [
    "item_limited = big_ratings[big_ratings.movieId.isin(sorted_items.iloc[:20000].index)]"
   ]
  },
  {
   "cell_type": "code",
   "execution_count": 597,
   "metadata": {},
   "outputs": [],
   "source": [
    "sorted_users = item_limited.userId.value_counts().sort_values(ascending=False)"
   ]
  },
  {
   "cell_type": "code",
   "execution_count": 598,
   "metadata": {},
   "outputs": [],
   "source": [
    "user_item_limited = item_limited[item_limited.userId.isin(sorted_users.iloc[:3000].index)]\n",
    "bratings = user_item_limited.drop('timestamp', axis=1)\n",
    "bratings.columns = ['user_id', 'item_id', 'rating']\n",
    "\n",
    "buser_encoder = LabelEncoder()\n",
    "bitem_encoder = LabelEncoder()\n",
    "busers_encoded = buser_encoder.fit_transform(bratings.user_id)\n",
    "bitems_encoded = bitem_encoder.fit_transform(bratings.item_id)\n",
    "bratings.user_id = busers_encoded\n",
    "bratings.item_id = bitems_encoded\n",
    "btrain_ratings, btest_ratings = train_test_split(bratings, test_size=0.2, random_state=42, stratify=bratings.user_id)"
   ]
  },
  {
   "cell_type": "code",
   "execution_count": 599,
   "metadata": {},
   "outputs": [
    {
     "name": "stderr",
     "output_type": "stream",
     "text": [
      "884325it [01:05, 13469.50it/s]\n"
     ]
    }
   ],
   "source": [
    "bratings_matrix = create_ratings_matrix(bratings)\n",
    "for _, btest_rating in tqdm(btest_ratings.iterrows()):\n",
    "    bratings_matrix[int(btest_rating.user_id), int(btest_rating.item_id)] = np.nan\n",
    "btrain_ratings_matrix = bratings_matrix"
   ]
  },
  {
   "cell_type": "code",
   "execution_count": 602,
   "metadata": {},
   "outputs": [
    {
     "name": "stdout",
     "output_type": "stream",
     "text": [
      "performing SVD..\n",
      "2 - 0.6413595627194869\n",
      "0.6413595627194869 - 0.6097560782996019\n",
      "0.6097560782996019 - 0.5938771077350034\n"
     ]
    },
    {
     "name": "stderr",
     "output_type": "stream",
     "text": [
      "  0%|          | 4/3000 [00:00<01:25, 35.24it/s]"
     ]
    },
    {
     "name": "stdout",
     "output_type": "stream",
     "text": [
      "0.5938771077350034 - 0.5839668950500824\n"
     ]
    },
    {
     "name": "stderr",
     "output_type": "stream",
     "text": [
      "100%|██████████| 3000/3000 [01:16<00:00, 39.47it/s]\n"
     ]
    },
    {
     "name": "stdout",
     "output_type": "stream",
     "text": [
      "RMSE: 0.7866115064776429, MAE: 0.5967425080200868, Recall at 50: 0.08468697293875944\n"
     ]
    }
   ],
   "source": [
    "recommender = SVDRecommender(k=10)\n",
    "recommender.fit(btrain_ratings_matrix)\n",
    "evaluate(recommender, btrain_ratings_matrix, btest_ratings)"
   ]
  },
  {
   "cell_type": "markdown",
   "metadata": {},
   "source": [
    "SVD improved as expected, but we will not include it in benchmark as we would have to recompute\n",
    "all the models on this snapshot and KNN methods are not implemented in a way to handle dataset\n",
    "this big."
   ]
  },
  {
   "cell_type": "markdown",
   "metadata": {},
   "source": [
    "# w2v"
   ]
  },
  {
   "cell_type": "code",
   "execution_count": 24,
   "metadata": {},
   "outputs": [
    {
     "data": {
      "text/html": [
       "<div>\n",
       "<style scoped>\n",
       "    .dataframe tbody tr th:only-of-type {\n",
       "        vertical-align: middle;\n",
       "    }\n",
       "\n",
       "    .dataframe tbody tr th {\n",
       "        vertical-align: top;\n",
       "    }\n",
       "\n",
       "    .dataframe thead th {\n",
       "        text-align: right;\n",
       "    }\n",
       "</style>\n",
       "<table border=\"1\" class=\"dataframe\">\n",
       "  <thead>\n",
       "    <tr style=\"text-align: right;\">\n",
       "      <th></th>\n",
       "      <th>user_id</th>\n",
       "      <th>item_id</th>\n",
       "      <th>rating</th>\n",
       "    </tr>\n",
       "  </thead>\n",
       "  <tbody>\n",
       "    <tr>\n",
       "      <th>21452</th>\n",
       "      <td>139</td>\n",
       "      <td>3142</td>\n",
       "      <td>3.0</td>\n",
       "    </tr>\n",
       "    <tr>\n",
       "      <th>22899</th>\n",
       "      <td>155</td>\n",
       "      <td>1543</td>\n",
       "      <td>1.0</td>\n",
       "    </tr>\n",
       "    <tr>\n",
       "      <th>58090</th>\n",
       "      <td>379</td>\n",
       "      <td>9649</td>\n",
       "      <td>4.0</td>\n",
       "    </tr>\n",
       "    <tr>\n",
       "      <th>79604</th>\n",
       "      <td>494</td>\n",
       "      <td>3759</td>\n",
       "      <td>3.5</td>\n",
       "    </tr>\n",
       "    <tr>\n",
       "      <th>100382</th>\n",
       "      <td>609</td>\n",
       "      <td>7028</td>\n",
       "      <td>3.0</td>\n",
       "    </tr>\n",
       "    <tr>\n",
       "      <th>...</th>\n",
       "      <td>...</td>\n",
       "      <td>...</td>\n",
       "      <td>...</td>\n",
       "    </tr>\n",
       "    <tr>\n",
       "      <th>49818</th>\n",
       "      <td>317</td>\n",
       "      <td>8912</td>\n",
       "      <td>3.0</td>\n",
       "    </tr>\n",
       "    <tr>\n",
       "      <th>66934</th>\n",
       "      <td>431</td>\n",
       "      <td>3915</td>\n",
       "      <td>1.5</td>\n",
       "    </tr>\n",
       "    <tr>\n",
       "      <th>74191</th>\n",
       "      <td>473</td>\n",
       "      <td>2993</td>\n",
       "      <td>2.0</td>\n",
       "    </tr>\n",
       "    <tr>\n",
       "      <th>80857</th>\n",
       "      <td>509</td>\n",
       "      <td>434</td>\n",
       "      <td>1.5</td>\n",
       "    </tr>\n",
       "    <tr>\n",
       "      <th>40375</th>\n",
       "      <td>273</td>\n",
       "      <td>6421</td>\n",
       "      <td>3.5</td>\n",
       "    </tr>\n",
       "  </tbody>\n",
       "</table>\n",
       "<p>80668 rows × 3 columns</p>\n",
       "</div>"
      ],
      "text/plain": [
       "        user_id  item_id  rating\n",
       "21452       139     3142     3.0\n",
       "22899       155     1543     1.0\n",
       "58090       379     9649     4.0\n",
       "79604       494     3759     3.5\n",
       "100382      609     7028     3.0\n",
       "...         ...      ...     ...\n",
       "49818       317     8912     3.0\n",
       "66934       431     3915     1.5\n",
       "74191       473     2993     2.0\n",
       "80857       509      434     1.5\n",
       "40375       273     6421     3.5\n",
       "\n",
       "[80668 rows x 3 columns]"
      ]
     },
     "execution_count": 24,
     "metadata": {},
     "output_type": "execute_result"
    }
   ],
   "source": [
    "train_ratings"
   ]
  },
  {
   "cell_type": "code",
   "execution_count": 145,
   "metadata": {},
   "outputs": [],
   "source": [
    "recommender = W2VRecommender(similarity_type=\"correlation\")\n",
    "recommender.fit(train_ratings, train_ratings_matrix)"
   ]
  },
  {
   "cell_type": "code",
   "execution_count": 146,
   "metadata": {},
   "outputs": [
    {
     "name": "stderr",
     "output_type": "stream",
     "text": [
      "  0%|          | 0/610 [00:00<?, ?it/s]"
     ]
    },
    {
     "name": "stderr",
     "output_type": "stream",
     "text": [
      "100%|██████████| 610/610 [00:05<00:00, 103.01it/s]\n"
     ]
    },
    {
     "name": "stdout",
     "output_type": "stream",
     "text": [
      "RMSE: 0.9909022937772373, MAE: 0.7577964192371703, Recall at 50: 0.05416001906101442, Precision at 5: 0.0018634584116679516\n"
     ]
    }
   ],
   "source": [
    "evaluate(recommender, train_ratings_matrix, test_ratings)"
   ]
  },
  {
   "cell_type": "code",
   "execution_count": 109,
   "metadata": {},
   "outputs": [
    {
     "data": {
      "text/plain": [
       "(610, 9724)"
      ]
     },
     "execution_count": 109,
     "metadata": {},
     "output_type": "execute_result"
    }
   ],
   "source": [
    "train_ratings_matrix.shape"
   ]
  },
  {
   "cell_type": "code",
   "execution_count": 138,
   "metadata": {},
   "outputs": [
    {
     "data": {
      "text/plain": [
       "0.84711134"
      ]
     },
     "execution_count": 138,
     "metadata": {},
     "output_type": "execute_result"
    }
   ],
   "source": [
    "recommender.w2v_model.wv.similarity(0, 6)"
   ]
  },
  {
   "cell_type": "code",
   "execution_count": null,
   "metadata": {},
   "outputs": [],
   "source": []
  }
 ],
 "metadata": {
  "kernelspec": {
   "display_name": "Python 3.10.4 64-bit",
   "language": "python",
   "name": "python3"
  },
  "language_info": {
   "codemirror_mode": {
    "name": "ipython",
    "version": 3
   },
   "file_extension": ".py",
   "mimetype": "text/x-python",
   "name": "python",
   "nbconvert_exporter": "python",
   "pygments_lexer": "ipython3",
   "version": "3.8.12"
  },
  "vscode": {
   "interpreter": {
    "hash": "3ad933181bd8a04b432d3370b9dc3b0662ad032c4dfaa4e4f1596c548f763858"
   }
  }
 },
 "nbformat": 4,
 "nbformat_minor": 4
}
