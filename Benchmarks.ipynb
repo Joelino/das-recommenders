{
 "cells": [
  {
   "cell_type": "code",
   "execution_count": 536,
   "metadata": {},
   "outputs": [
    {
     "name": "stdout",
     "output_type": "stream",
     "text": [
      "The autoreload extension is already loaded. To reload it, use:\n",
      "  %reload_ext autoreload\n"
     ]
    }
   ],
   "source": [
    "%load_ext autoreload\n",
    "%autoreload 2\n",
    "%matplotlib inline"
   ]
  },
  {
   "cell_type": "code",
   "execution_count": 2,
   "metadata": {},
   "outputs": [],
   "source": [
    "import pandas as pd\n",
    "import numpy as np\n",
    "from sklearn.preprocessing import LabelEncoder\n",
    "from sklearn.model_selection import train_test_split\n",
    "from tqdm import tqdm"
   ]
  },
  {
   "cell_type": "markdown",
   "metadata": {},
   "source": [
    "# Load, process data"
   ]
  },
  {
   "cell_type": "code",
   "execution_count": 3,
   "metadata": {},
   "outputs": [],
   "source": [
    "ratings = pd.read_csv(\"ml-latest-small/ratings.csv\")"
   ]
  },
  {
   "cell_type": "code",
   "execution_count": 572,
   "metadata": {},
   "outputs": [
    {
     "data": {
      "text/html": [
       "<div>\n",
       "<style scoped>\n",
       "    .dataframe tbody tr th:only-of-type {\n",
       "        vertical-align: middle;\n",
       "    }\n",
       "\n",
       "    .dataframe tbody tr th {\n",
       "        vertical-align: top;\n",
       "    }\n",
       "\n",
       "    .dataframe thead th {\n",
       "        text-align: right;\n",
       "    }\n",
       "</style>\n",
       "<table border=\"1\" class=\"dataframe\">\n",
       "  <thead>\n",
       "    <tr style=\"text-align: right;\">\n",
       "      <th></th>\n",
       "      <th>user_id</th>\n",
       "      <th>item_id</th>\n",
       "      <th>rating</th>\n",
       "    </tr>\n",
       "  </thead>\n",
       "  <tbody>\n",
       "    <tr>\n",
       "      <th>0</th>\n",
       "      <td>0</td>\n",
       "      <td>0</td>\n",
       "      <td>4.0</td>\n",
       "    </tr>\n",
       "    <tr>\n",
       "      <th>1</th>\n",
       "      <td>0</td>\n",
       "      <td>2</td>\n",
       "      <td>4.0</td>\n",
       "    </tr>\n",
       "    <tr>\n",
       "      <th>2</th>\n",
       "      <td>0</td>\n",
       "      <td>5</td>\n",
       "      <td>4.0</td>\n",
       "    </tr>\n",
       "    <tr>\n",
       "      <th>3</th>\n",
       "      <td>0</td>\n",
       "      <td>43</td>\n",
       "      <td>5.0</td>\n",
       "    </tr>\n",
       "    <tr>\n",
       "      <th>4</th>\n",
       "      <td>0</td>\n",
       "      <td>46</td>\n",
       "      <td>5.0</td>\n",
       "    </tr>\n",
       "    <tr>\n",
       "      <th>...</th>\n",
       "      <td>...</td>\n",
       "      <td>...</td>\n",
       "      <td>...</td>\n",
       "    </tr>\n",
       "    <tr>\n",
       "      <th>100831</th>\n",
       "      <td>609</td>\n",
       "      <td>9416</td>\n",
       "      <td>4.0</td>\n",
       "    </tr>\n",
       "    <tr>\n",
       "      <th>100832</th>\n",
       "      <td>609</td>\n",
       "      <td>9443</td>\n",
       "      <td>5.0</td>\n",
       "    </tr>\n",
       "    <tr>\n",
       "      <th>100833</th>\n",
       "      <td>609</td>\n",
       "      <td>9444</td>\n",
       "      <td>5.0</td>\n",
       "    </tr>\n",
       "    <tr>\n",
       "      <th>100834</th>\n",
       "      <td>609</td>\n",
       "      <td>9445</td>\n",
       "      <td>5.0</td>\n",
       "    </tr>\n",
       "    <tr>\n",
       "      <th>100835</th>\n",
       "      <td>609</td>\n",
       "      <td>9485</td>\n",
       "      <td>3.0</td>\n",
       "    </tr>\n",
       "  </tbody>\n",
       "</table>\n",
       "<p>100836 rows × 3 columns</p>\n",
       "</div>"
      ],
      "text/plain": [
       "        user_id  item_id  rating\n",
       "0             0        0     4.0\n",
       "1             0        2     4.0\n",
       "2             0        5     4.0\n",
       "3             0       43     5.0\n",
       "4             0       46     5.0\n",
       "...         ...      ...     ...\n",
       "100831      609     9416     4.0\n",
       "100832      609     9443     5.0\n",
       "100833      609     9444     5.0\n",
       "100834      609     9445     5.0\n",
       "100835      609     9485     3.0\n",
       "\n",
       "[100836 rows x 3 columns]"
      ]
     },
     "execution_count": 572,
     "metadata": {},
     "output_type": "execute_result"
    }
   ],
   "source": [
    "ratings"
   ]
  },
  {
   "cell_type": "code",
   "execution_count": 244,
   "metadata": {},
   "outputs": [
    {
     "data": {
      "text/plain": [
       "314     329\n",
       "277     317\n",
       "257     307\n",
       "510     279\n",
       "1938    278\n",
       "       ... \n",
       "736       1\n",
       "2849      1\n",
       "4898      1\n",
       "6947      1\n",
       "6109      1\n",
       "Name: item_id, Length: 9724, dtype: int64"
      ]
     },
     "execution_count": 244,
     "metadata": {},
     "output_type": "execute_result"
    }
   ],
   "source": [
    "ratings.item_id.value_counts()"
   ]
  },
  {
   "cell_type": "code",
   "execution_count": 153,
   "metadata": {},
   "outputs": [
    {
     "data": {
      "text/plain": [
       "413    2698\n",
       "598    2478\n",
       "473    2108\n",
       "447    1864\n",
       "273    1346\n",
       "       ... \n",
       "405      20\n",
       "193      20\n",
       "430      20\n",
       "52       20\n",
       "575      20\n",
       "Name: user_id, Length: 610, dtype: int64"
      ]
     },
     "execution_count": 153,
     "metadata": {},
     "output_type": "execute_result"
    }
   ],
   "source": [
    "ratings.user_id.value_counts()"
   ]
  },
  {
   "cell_type": "code",
   "execution_count": 276,
   "metadata": {},
   "outputs": [
    {
     "data": {
      "text/plain": [
       "4421623"
      ]
     },
     "execution_count": 276,
     "metadata": {},
     "output_type": "execute_result"
    }
   ],
   "source": [
    "len(user_item_limited)"
   ]
  },
  {
   "cell_type": "code",
   "execution_count": 254,
   "metadata": {},
   "outputs": [
    {
     "data": {
      "text/plain": [
       "0.15931799311105319"
      ]
     },
     "execution_count": 254,
     "metadata": {},
     "output_type": "execute_result"
    }
   ],
   "source": [
    "4421623 / 27753444"
   ]
  },
  {
   "cell_type": "code",
   "execution_count": 164,
   "metadata": {},
   "outputs": [
    {
     "data": {
      "text/plain": [
       "100836"
      ]
     },
     "execution_count": 164,
     "metadata": {},
     "output_type": "execute_result"
    }
   ],
   "source": [
    "len(ratings)"
   ]
  },
  {
   "cell_type": "code",
   "execution_count": 5,
   "metadata": {},
   "outputs": [],
   "source": [
    "ratings = ratings.drop('timestamp', axis=1)\n",
    "ratings.columns = ['user_id', 'item_id', 'rating']"
   ]
  },
  {
   "cell_type": "code",
   "execution_count": 6,
   "metadata": {},
   "outputs": [],
   "source": [
    "user_encoder = LabelEncoder()\n",
    "item_encoder = LabelEncoder()\n",
    "users_encoded = user_encoder.fit_transform(ratings.user_id)\n",
    "items_encoded = item_encoder.fit_transform(ratings.item_id)\n",
    "ratings.user_id = users_encoded\n",
    "ratings.item_id = items_encoded"
   ]
  },
  {
   "cell_type": "code",
   "execution_count": 12,
   "metadata": {},
   "outputs": [],
   "source": [
    "train_ratings, test_ratings = train_test_split(ratings, test_size=0.2, random_state=42, stratify=ratings.user_id)"
   ]
  },
  {
   "cell_type": "markdown",
   "metadata": {},
   "source": [
    "# Create ratings matrix"
   ]
  },
  {
   "cell_type": "code",
   "execution_count": 7,
   "metadata": {},
   "outputs": [],
   "source": [
    "def create_ratings_matrix(ratings: pd.DataFrame):\n",
    "    # preprocessing step required to be able to use unstack\n",
    "    unique_ratings = ratings.groupby([\"user_id\", \"item_id\"]).mean()\n",
    "    return unique_ratings.unstack().values"
   ]
  },
  {
   "cell_type": "code",
   "execution_count": 265,
   "metadata": {},
   "outputs": [
    {
     "name": "stderr",
     "output_type": "stream",
     "text": [
      "20168it [00:01, 13817.85it/s]\n"
     ]
    }
   ],
   "source": [
    "ratings_matrix = create_ratings_matrix(ratings)\n",
    "for _, test_rating in tqdm(test_ratings.iterrows()):\n",
    "    ratings_matrix[int(test_rating.user_id), int(test_rating.item_id)] = np.nan\n",
    "# train_ratings_matrix = ratings_matrix[train_users, :]\n",
    "# test_ratings_matrix =  ratings_matrix[test_users, :]\n",
    "train_ratings_matrix = ratings_matrix"
   ]
  },
  {
   "cell_type": "markdown",
   "metadata": {},
   "source": [
    "# Basic recommenders"
   ]
  },
  {
   "cell_type": "code",
   "execution_count": 590,
   "metadata": {},
   "outputs": [],
   "source": [
    "from das_recommenders.basic import (\n",
    "    ConstantRecommender,\n",
    "    ItemMeanRecommender,\n",
    "    UserMeanRecommender\n",
    ")\n",
    "from das_recommenders.collaborative_filtering.knn import (\n",
    "    BasicKNNRecommender,\n",
    "    NormalizedKNNRecommender,\n",
    "    WeightedNormKNNRecommender,\n",
    ")\n",
    "from das_recommenders.collaborative_filtering.svd import SVDRecommender\n",
    "from das_recommenders.collaborative_filtering.ease import EASE\n",
    "from das_recommenders.evaluate import evaluate"
   ]
  },
  {
   "cell_type": "markdown",
   "metadata": {},
   "source": [
    "### Constant"
   ]
  },
  {
   "cell_type": "code",
   "execution_count": 546,
   "metadata": {},
   "outputs": [
    {
     "name": "stderr",
     "output_type": "stream",
     "text": [
      "100%|██████████| 610/610 [00:02<00:00, 238.82it/s]"
     ]
    },
    {
     "name": "stdout",
     "output_type": "stream",
     "text": [
      "RMSE: 1.1519669982656695, MAE: 0.9343018643395478, Recall at 50: 0.0026528556650324904\n"
     ]
    },
    {
     "name": "stderr",
     "output_type": "stream",
     "text": [
      "\n"
     ]
    }
   ],
   "source": [
    "recommender = ConstantRecommender()\n",
    "recommender.fit(3)\n",
    "evaluate(recommender, train_ratings_matrix, test_ratings)"
   ]
  },
  {
   "cell_type": "markdown",
   "metadata": {},
   "source": [
    "### Constant: Dataset mean"
   ]
  },
  {
   "cell_type": "code",
   "execution_count": 547,
   "metadata": {},
   "outputs": [
    {
     "name": "stderr",
     "output_type": "stream",
     "text": [
      "  4%|▎         | 22/610 [00:00<00:02, 218.85it/s]"
     ]
    },
    {
     "name": "stdout",
     "output_type": "stream",
     "text": [
      "3.501586750632221\n"
     ]
    },
    {
     "name": "stderr",
     "output_type": "stream",
     "text": [
      "100%|██████████| 610/610 [00:02<00:00, 251.46it/s]"
     ]
    },
    {
     "name": "stdout",
     "output_type": "stream",
     "text": [
      "RMSE: 1.037105586796965, MAE: 0.8242853475541899, Recall at 50: 0.0026528556650324904\n"
     ]
    },
    {
     "name": "stderr",
     "output_type": "stream",
     "text": [
      "\n"
     ]
    }
   ],
   "source": [
    "print(train_ratings.rating.mean())\n",
    "recommender = ConstantRecommender()\n",
    "recommender.fit(train_ratings.rating.mean())\n",
    "evaluate(recommender, train_ratings_matrix, test_ratings)"
   ]
  },
  {
   "cell_type": "markdown",
   "metadata": {},
   "source": [
    "### Item mean"
   ]
  },
  {
   "cell_type": "code",
   "execution_count": 549,
   "metadata": {
    "scrolled": true
   },
   "outputs": [
    {
     "name": "stderr",
     "output_type": "stream",
     "text": [
      "100%|██████████| 610/610 [00:02<00:00, 233.42it/s]"
     ]
    },
    {
     "name": "stdout",
     "output_type": "stream",
     "text": [
      "RMSE: 0.9674179355035368, MAE: 0.7454629502501907, Recall at 50: 0.00020386357205668228\n"
     ]
    },
    {
     "name": "stderr",
     "output_type": "stream",
     "text": [
      "\n"
     ]
    }
   ],
   "source": [
    "recommender = ItemMeanRecommender()\n",
    "recommender.fit(train_ratings_matrix)\n",
    "evaluate(recommender, train_ratings_matrix, test_ratings)"
   ]
  },
  {
   "cell_type": "markdown",
   "metadata": {},
   "source": [
    "### User mean"
   ]
  },
  {
   "cell_type": "code",
   "execution_count": 550,
   "metadata": {
    "scrolled": true
   },
   "outputs": [
    {
     "name": "stderr",
     "output_type": "stream",
     "text": [
      "100%|██████████| 610/610 [00:02<00:00, 252.68it/s]"
     ]
    },
    {
     "name": "stdout",
     "output_type": "stream",
     "text": [
      "RMSE: 0.9373131028071089, MAE: 0.7320669707659181, Recall at 50: 0.0026528556650324904\n"
     ]
    },
    {
     "name": "stderr",
     "output_type": "stream",
     "text": [
      "\n"
     ]
    }
   ],
   "source": [
    "recommender = UserMeanRecommender()\n",
    "evaluate(recommender, train_ratings_matrix, test_ratings)"
   ]
  },
  {
   "cell_type": "markdown",
   "metadata": {},
   "source": [
    "# KNN recommenders"
   ]
  },
  {
   "cell_type": "markdown",
   "metadata": {},
   "source": [
    "### Basic average"
   ]
  },
  {
   "cell_type": "code",
   "execution_count": 552,
   "metadata": {
    "scrolled": false
   },
   "outputs": [
    {
     "name": "stderr",
     "output_type": "stream",
     "text": [
      "100%|██████████| 610/610 [01:38<00:00,  6.19it/s]"
     ]
    },
    {
     "name": "stdout",
     "output_type": "stream",
     "text": [
      "RMSE: 1.2297429379279445, MAE: 0.9247355008696178, Recall at 50: 0.02483321065430481\n"
     ]
    },
    {
     "name": "stderr",
     "output_type": "stream",
     "text": [
      "\n"
     ]
    }
   ],
   "source": [
    "recommender = BasicKNNRecommender(similarity_type=\"correlation\")\n",
    "recommender.fit(train_ratings_matrix)\n",
    "evaluate(recommender, train_ratings_matrix, test_ratings)"
   ]
  },
  {
   "cell_type": "markdown",
   "metadata": {},
   "source": [
    "### Normalized average"
   ]
  },
  {
   "cell_type": "code",
   "execution_count": 553,
   "metadata": {
    "scrolled": true
   },
   "outputs": [
    {
     "name": "stderr",
     "output_type": "stream",
     "text": [
      "100%|██████████| 152/152 [00:25<00:00,  5.95it/s]"
     ]
    },
    {
     "name": "stdout",
     "output_type": "stream",
     "text": [
      "RMSE: 1.1663678657726948, MAE: 0.9017855218205657, Recall at 50: 0.02720512299454543\n"
     ]
    },
    {
     "name": "stderr",
     "output_type": "stream",
     "text": [
      "\n"
     ]
    }
   ],
   "source": [
    "recommender = NormalizedKNNRecommender(similarity_type=\"correlation\")\n",
    "recommender.fit(train_ratings_matrix)\n",
    "evaluate(recommender, train_ratings_matrix, test_ratings, fraction=0.25)"
   ]
  },
  {
   "cell_type": "code",
   "execution_count": 554,
   "metadata": {
    "scrolled": true
   },
   "outputs": [
    {
     "name": "stderr",
     "output_type": "stream",
     "text": [
      "100%|██████████| 152/152 [00:14<00:00, 10.36it/s]"
     ]
    },
    {
     "name": "stdout",
     "output_type": "stream",
     "text": [
      "RMSE: 0.9413028886291087, MAE: 0.7147418706389471, Recall at 50: 0.03301097627862756\n"
     ]
    },
    {
     "name": "stderr",
     "output_type": "stream",
     "text": [
      "\n"
     ]
    }
   ],
   "source": [
    "recommender = NormalizedKNNRecommender(similarity_type=\"cosine\")\n",
    "recommender.fit(train_ratings_matrix)\n",
    "evaluate(recommender, train_ratings_matrix, test_ratings, fraction=0.25)"
   ]
  },
  {
   "cell_type": "markdown",
   "metadata": {},
   "source": [
    "### Weighted normalized average"
   ]
  },
  {
   "cell_type": "code",
   "execution_count": 556,
   "metadata": {
    "scrolled": true
   },
   "outputs": [
    {
     "name": "stderr",
     "output_type": "stream",
     "text": [
      "100%|██████████| 152/152 [00:24<00:00,  6.28it/s]"
     ]
    },
    {
     "name": "stdout",
     "output_type": "stream",
     "text": [
      "RMSE: 1.1650176875062734, MAE: 0.9011079563367076, Recall at 50: 0.027117403696299815\n"
     ]
    },
    {
     "name": "stderr",
     "output_type": "stream",
     "text": [
      "\n"
     ]
    }
   ],
   "source": [
    "recommender = WeightedNormKNNRecommender(similarity_type=\"correlation\")\n",
    "recommender.fit(train_ratings_matrix)\n",
    "evaluate(recommender, train_ratings_matrix, test_ratings, fraction=0.25)"
   ]
  },
  {
   "cell_type": "code",
   "execution_count": 557,
   "metadata": {
    "scrolled": true
   },
   "outputs": [
    {
     "name": "stderr",
     "output_type": "stream",
     "text": [
      "100%|██████████| 152/152 [00:25<00:00,  5.85it/s]"
     ]
    },
    {
     "name": "stdout",
     "output_type": "stream",
     "text": [
      "RMSE: 0.9944082610563986, MAE: 0.760695567074061, Recall at 50: 0.006054384974055407\n"
     ]
    },
    {
     "name": "stderr",
     "output_type": "stream",
     "text": [
      "\n"
     ]
    }
   ],
   "source": [
    "recommender = WeightedNormKNNRecommender(similarity_type=\"correlation\", k=100)\n",
    "recommender.fit(train_ratings_matrix)\n",
    "evaluate(recommender, train_ratings_matrix, test_ratings, fraction=0.25)"
   ]
  },
  {
   "cell_type": "code",
   "execution_count": 558,
   "metadata": {
    "scrolled": true
   },
   "outputs": [
    {
     "name": "stderr",
     "output_type": "stream",
     "text": [
      "100%|██████████| 152/152 [00:27<00:00,  5.58it/s]"
     ]
    },
    {
     "name": "stdout",
     "output_type": "stream",
     "text": [
      "RMSE: 0.89757663063764, MAE: 0.6857219502290782, Recall at 50: 0.0017641613502031076\n"
     ]
    },
    {
     "name": "stderr",
     "output_type": "stream",
     "text": [
      "\n"
     ]
    }
   ],
   "source": [
    "recommender = WeightedNormKNNRecommender(similarity_type=\"correlation\", k=200)\n",
    "recommender.fit(train_ratings_matrix)\n",
    "evaluate(recommender, train_ratings_matrix, test_ratings, fraction=0.25)"
   ]
  },
  {
   "cell_type": "code",
   "execution_count": 559,
   "metadata": {
    "scrolled": true
   },
   "outputs": [
    {
     "name": "stderr",
     "output_type": "stream",
     "text": [
      "100%|██████████| 610/610 [01:18<00:00,  7.78it/s]"
     ]
    },
    {
     "name": "stdout",
     "output_type": "stream",
     "text": [
      "RMSE: 0.877438424532398, MAE: 0.6678703803216346, Recall at 50: 0.0011632420072102924\n"
     ]
    },
    {
     "name": "stderr",
     "output_type": "stream",
     "text": [
      "\n"
     ]
    }
   ],
   "source": [
    "recommender = WeightedNormKNNRecommender(similarity_type=\"cosine\", k=200)\n",
    "recommender.fit(train_ratings_matrix)\n",
    "evaluate(recommender, train_ratings_matrix, test_ratings)"
   ]
  },
  {
   "cell_type": "markdown",
   "metadata": {},
   "source": [
    "# SVD\n",
    "Try it with various setting for k (number of factors, spoiler alert 10 is best).\n",
    "\n",
    "Note: this could be improved with some automatized hyper-parameter optimization."
   ]
  },
  {
   "cell_type": "code",
   "execution_count": 592,
   "metadata": {
    "scrolled": true
   },
   "outputs": [
    {
     "name": "stdout",
     "output_type": "stream",
     "text": [
      "performing SVD..\n",
      "2 - 0.13706601156837386\n",
      "0.13706601156837386 - 0.09859692572313226\n",
      "0.09859692572313226 - 0.0741558301286086\n",
      "0.0741558301286086 - 0.057064173183024\n",
      "0.057064173183024 - 0.04460600452130993\n"
     ]
    },
    {
     "name": "stderr",
     "output_type": "stream",
     "text": [
      "  3%|▎         | 20/610 [00:00<00:03, 184.43it/s]"
     ]
    },
    {
     "name": "stdout",
     "output_type": "stream",
     "text": [
      "0.04460600452130993 - 0.035304413030310164\n"
     ]
    },
    {
     "name": "stderr",
     "output_type": "stream",
     "text": [
      "100%|██████████| 610/610 [00:02<00:00, 222.31it/s]"
     ]
    },
    {
     "name": "stdout",
     "output_type": "stream",
     "text": [
      "RMSE: 0.9362803849537101, MAE: 0.7294269612894572, Recall at 50: 0.08885386234813354\n"
     ]
    },
    {
     "name": "stderr",
     "output_type": "stream",
     "text": [
      "\n"
     ]
    }
   ],
   "source": [
    "recommender = SVDRecommender(k=200)\n",
    "recommender.fit(train_ratings_matrix)\n",
    "evaluate(recommender, train_ratings_matrix, test_ratings)"
   ]
  },
  {
   "cell_type": "code",
   "execution_count": 562,
   "metadata": {
    "scrolled": true
   },
   "outputs": [
    {
     "name": "stdout",
     "output_type": "stream",
     "text": [
      "performing SVD..\n",
      "2 - 0.2719631826592722\n",
      "0.2719631826592722 - 0.22764456531627814\n",
      "0.22764456531627814 - 0.19400622484777186\n",
      "0.19400622484777186 - 0.16740323284879638\n",
      "0.16740323284879638 - 0.14593327844915044\n",
      "0.14593327844915044 - 0.12833299699698572\n",
      "0.12833299699698572 - 0.11367538693376013\n",
      "0.11367538693376013 - 0.10132704349781693\n",
      "0.10132704349781693 - 0.0907973384990324\n"
     ]
    },
    {
     "name": "stderr",
     "output_type": "stream",
     "text": [
      "  3%|▎         | 19/610 [00:00<00:03, 187.28it/s]"
     ]
    },
    {
     "name": "stdout",
     "output_type": "stream",
     "text": [
      "0.0907973384990324 - 0.08175503902716325\n"
     ]
    },
    {
     "name": "stderr",
     "output_type": "stream",
     "text": [
      "100%|██████████| 610/610 [00:02<00:00, 206.99it/s]"
     ]
    },
    {
     "name": "stdout",
     "output_type": "stream",
     "text": [
      "RMSE: 0.947699606235797, MAE: 0.7344015997011256, Recall at 50: 0.09877160753527728\n"
     ]
    },
    {
     "name": "stderr",
     "output_type": "stream",
     "text": [
      "\n"
     ]
    }
   ],
   "source": [
    "recommender = SVDRecommender(k=100)\n",
    "recommender.fit(train_ratings_matrix)\n",
    "evaluate(recommender, train_ratings_matrix, test_ratings)"
   ]
  },
  {
   "cell_type": "code",
   "execution_count": 563,
   "metadata": {
    "scrolled": true
   },
   "outputs": [
    {
     "name": "stdout",
     "output_type": "stream",
     "text": [
      "performing SVD..\n",
      "2 - 0.4005921103794706\n",
      "0.4005921103794706 - 0.3628144881516125\n",
      "0.3628144881516125 - 0.3311365713656659\n",
      "0.3311365713656659 - 0.3046420899891876\n",
      "0.3046420899891876 - 0.2822417879907421\n",
      "0.2822417879907421 - 0.2631216478793414\n",
      "0.2631216478793414 - 0.24664960273890088\n",
      "0.24664960273890088 - 0.23226396444221434\n",
      "0.23226396444221434 - 0.21958434514240047\n",
      "0.21958434514240047 - 0.20831889526185077\n",
      "0.20831889526185077 - 0.19821813083795756\n"
     ]
    },
    {
     "name": "stderr",
     "output_type": "stream",
     "text": [
      "  3%|▎         | 20/610 [00:00<00:03, 195.45it/s]"
     ]
    },
    {
     "name": "stdout",
     "output_type": "stream",
     "text": [
      "0.19821813083795756 - 0.1891025871954492\n"
     ]
    },
    {
     "name": "stderr",
     "output_type": "stream",
     "text": [
      "100%|██████████| 610/610 [00:02<00:00, 211.53it/s]"
     ]
    },
    {
     "name": "stdout",
     "output_type": "stream",
     "text": [
      "RMSE: 0.9618984471373583, MAE: 0.7367694351558876, Recall at 50: 0.10588833438046202\n"
     ]
    },
    {
     "name": "stderr",
     "output_type": "stream",
     "text": [
      "\n"
     ]
    }
   ],
   "source": [
    "recommender = SVDRecommender(k=50)\n",
    "recommender.fit(train_ratings_matrix)\n",
    "evaluate(recommender, train_ratings_matrix, test_ratings)"
   ]
  },
  {
   "cell_type": "code",
   "execution_count": 564,
   "metadata": {
    "scrolled": true
   },
   "outputs": [
    {
     "name": "stdout",
     "output_type": "stream",
     "text": [
      "performing SVD..\n",
      "2 - 0.4774894424094742\n",
      "0.4774894424094742 - 0.4439815019783959\n",
      "0.4439815019783959 - 0.4158349197371125\n",
      "0.4158349197371125 - 0.39236476994786035\n",
      "0.39236476994786035 - 0.3727431252617559\n",
      "0.3727431252617559 - 0.35610409845486607\n",
      "0.35610409845486607 - 0.34181421373015375\n",
      "0.34181421373015375 - 0.32935013238427413\n",
      "0.32935013238427413 - 0.3183135436471381\n"
     ]
    },
    {
     "name": "stderr",
     "output_type": "stream",
     "text": [
      "  3%|▎         | 19/610 [00:00<00:03, 183.78it/s]"
     ]
    },
    {
     "name": "stdout",
     "output_type": "stream",
     "text": [
      "0.3183135436471381 - 0.3084059122748499\n"
     ]
    },
    {
     "name": "stderr",
     "output_type": "stream",
     "text": [
      "100%|██████████| 610/610 [00:02<00:00, 220.24it/s]"
     ]
    },
    {
     "name": "stdout",
     "output_type": "stream",
     "text": [
      "RMSE: 0.9427776427626525, MAE: 0.7197256920749353, Recall at 50: 0.11234580718258651\n"
     ]
    },
    {
     "name": "stderr",
     "output_type": "stream",
     "text": [
      "\n"
     ]
    }
   ],
   "source": [
    "recommender = SVDRecommender(k=30)\n",
    "recommender.fit(train_ratings_matrix)\n",
    "evaluate(recommender, train_ratings_matrix, test_ratings)"
   ]
  },
  {
   "cell_type": "code",
   "execution_count": 565,
   "metadata": {
    "scrolled": true
   },
   "outputs": [
    {
     "name": "stdout",
     "output_type": "stream",
     "text": [
      "performing SVD..\n",
      "2 - 0.5607903561583357\n",
      "0.5607903561583357 - 0.5305236507403895\n",
      "0.5305236507403895 - 0.508026306542596\n",
      "0.508026306542596 - 0.48976397097852087\n",
      "0.48976397097852087 - 0.4745547053980569\n",
      "0.4745547053980569 - 0.4617118676482018\n",
      "0.4617118676482018 - 0.45074366876499405\n"
     ]
    },
    {
     "name": "stderr",
     "output_type": "stream",
     "text": [
      "  7%|▋         | 42/610 [00:00<00:02, 198.59it/s]"
     ]
    },
    {
     "name": "stdout",
     "output_type": "stream",
     "text": [
      "0.45074366876499405 - 0.4412285582701423\n"
     ]
    },
    {
     "name": "stderr",
     "output_type": "stream",
     "text": [
      "100%|██████████| 610/610 [00:02<00:00, 209.09it/s]"
     ]
    },
    {
     "name": "stdout",
     "output_type": "stream",
     "text": [
      "RMSE: 0.9125609668511306, MAE: 0.6957822859930554, Recall at 50: 0.1263935999818712\n"
     ]
    },
    {
     "name": "stderr",
     "output_type": "stream",
     "text": [
      "\n"
     ]
    }
   ],
   "source": [
    "recommender = SVDRecommender(k=15)\n",
    "recommender.fit(train_ratings_matrix)\n",
    "evaluate(recommender, train_ratings_matrix, test_ratings)"
   ]
  },
  {
   "cell_type": "code",
   "execution_count": 566,
   "metadata": {
    "scrolled": true
   },
   "outputs": [
    {
     "name": "stdout",
     "output_type": "stream",
     "text": [
      "performing SVD..\n",
      "2 - 0.5951083985690384\n",
      "0.5951083985690384 - 0.5689485782583125\n",
      "0.5689485782583125 - 0.5498154258597291\n",
      "0.5498154258597291 - 0.5344632912715558\n",
      "0.5344632912715558 - 0.5216714111977728\n",
      "0.5216714111977728 - 0.5108120377880324\n"
     ]
    },
    {
     "name": "stderr",
     "output_type": "stream",
     "text": [
      "  3%|▎         | 20/610 [00:00<00:03, 193.22it/s]"
     ]
    },
    {
     "name": "stdout",
     "output_type": "stream",
     "text": [
      "0.5108120377880324 - 0.5015178806852197\n"
     ]
    },
    {
     "name": "stderr",
     "output_type": "stream",
     "text": [
      "100%|██████████| 610/610 [00:02<00:00, 218.02it/s]"
     ]
    },
    {
     "name": "stdout",
     "output_type": "stream",
     "text": [
      "RMSE: 0.8943819982654805, MAE: 0.6847153739993795, Recall at 50: 0.12570607148317262\n"
     ]
    },
    {
     "name": "stderr",
     "output_type": "stream",
     "text": [
      "\n"
     ]
    }
   ],
   "source": [
    "recommender = SVDRecommender(k=10)\n",
    "recommender.fit(train_ratings_matrix)\n",
    "evaluate(recommender, train_ratings_matrix, test_ratings)"
   ]
  },
  {
   "cell_type": "markdown",
   "metadata": {},
   "source": [
    "# EASE"
   ]
  },
  {
   "cell_type": "code",
   "execution_count": 591,
   "metadata": {},
   "outputs": [
    {
     "name": "stderr",
     "output_type": "stream",
     "text": [
      "100%|██████████| 610/610 [00:02<00:00, 208.32it/s]"
     ]
    },
    {
     "name": "stdout",
     "output_type": "stream",
     "text": [
      "RMSE: 0.9358479797267258, MAE: 0.7298167854104668, Recall at 50: 0.3159995721230011\n"
     ]
    },
    {
     "name": "stderr",
     "output_type": "stream",
     "text": [
      "\n"
     ]
    }
   ],
   "source": [
    "recommender = EASE()\n",
    "recommender.fit(train_ratings_matrix)\n",
    "evaluate(recommender, train_ratings_matrix, test_ratings)"
   ]
  },
  {
   "cell_type": "markdown",
   "metadata": {},
   "source": [
    "# big dataset\n",
    "SVD wasn't that accurate on small dataset, let's see if it improves on bigger snapshot of full data."
   ]
  },
  {
   "cell_type": "code",
   "execution_count": 594,
   "metadata": {},
   "outputs": [],
   "source": [
    "big_ratings = pd.read_csv(\"ml-latest-full/ratings.csv\")"
   ]
  },
  {
   "cell_type": "markdown",
   "metadata": {},
   "source": [
    "### Create reasonably sized subset\n",
    "(bigger then ml-latest-small, but small than ml-latest-full)"
   ]
  },
  {
   "cell_type": "code",
   "execution_count": 595,
   "metadata": {},
   "outputs": [],
   "source": [
    "sorted_items = big_ratings.movieId.value_counts().sort_values(ascending=False)"
   ]
  },
  {
   "cell_type": "code",
   "execution_count": 596,
   "metadata": {},
   "outputs": [],
   "source": [
    "item_limited = big_ratings[big_ratings.movieId.isin(sorted_items.iloc[:20000].index)]"
   ]
  },
  {
   "cell_type": "code",
   "execution_count": 597,
   "metadata": {},
   "outputs": [],
   "source": [
    "sorted_users = item_limited.userId.value_counts().sort_values(ascending=False)"
   ]
  },
  {
   "cell_type": "code",
   "execution_count": 598,
   "metadata": {},
   "outputs": [],
   "source": [
    "user_item_limited = item_limited[item_limited.userId.isin(sorted_users.iloc[:3000].index)]\n",
    "bratings = user_item_limited.drop('timestamp', axis=1)\n",
    "bratings.columns = ['user_id', 'item_id', 'rating']\n",
    "\n",
    "buser_encoder = LabelEncoder()\n",
    "bitem_encoder = LabelEncoder()\n",
    "busers_encoded = buser_encoder.fit_transform(bratings.user_id)\n",
    "bitems_encoded = bitem_encoder.fit_transform(bratings.item_id)\n",
    "bratings.user_id = busers_encoded\n",
    "bratings.item_id = bitems_encoded\n",
    "btrain_ratings, btest_ratings = train_test_split(bratings, test_size=0.2, random_state=42, stratify=bratings.user_id)"
   ]
  },
  {
   "cell_type": "code",
   "execution_count": 599,
   "metadata": {},
   "outputs": [
    {
     "name": "stderr",
     "output_type": "stream",
     "text": [
      "884325it [01:05, 13469.50it/s]\n"
     ]
    }
   ],
   "source": [
    "bratings_matrix = create_ratings_matrix(bratings)\n",
    "for _, btest_rating in tqdm(btest_ratings.iterrows()):\n",
    "    bratings_matrix[int(btest_rating.user_id), int(btest_rating.item_id)] = np.nan\n",
    "btrain_ratings_matrix = bratings_matrix"
   ]
  },
  {
   "cell_type": "code",
   "execution_count": 602,
   "metadata": {},
   "outputs": [
    {
     "name": "stdout",
     "output_type": "stream",
     "text": [
      "performing SVD..\n",
      "2 - 0.6413595627194869\n",
      "0.6413595627194869 - 0.6097560782996019\n",
      "0.6097560782996019 - 0.5938771077350034\n"
     ]
    },
    {
     "name": "stderr",
     "output_type": "stream",
     "text": [
      "  0%|          | 4/3000 [00:00<01:25, 35.24it/s]"
     ]
    },
    {
     "name": "stdout",
     "output_type": "stream",
     "text": [
      "0.5938771077350034 - 0.5839668950500824\n"
     ]
    },
    {
     "name": "stderr",
     "output_type": "stream",
     "text": [
      "100%|██████████| 3000/3000 [01:16<00:00, 39.47it/s]\n"
     ]
    },
    {
     "name": "stdout",
     "output_type": "stream",
     "text": [
      "RMSE: 0.7866115064776429, MAE: 0.5967425080200868, Recall at 50: 0.08468697293875944\n"
     ]
    }
   ],
   "source": [
    "recommender = SVDRecommender(k=10)\n",
    "recommender.fit(btrain_ratings_matrix)\n",
    "evaluate(recommender, btrain_ratings_matrix, btest_ratings)"
   ]
  },
  {
   "cell_type": "markdown",
   "metadata": {},
   "source": [
    "SVD improved as expected, but we will not include it in benchmark as we would have to recompute\n",
    "all the models on this snapshot and KNN methods are not implemented in a way to handle dataset\n",
    "this big."
   ]
  },
  {
   "cell_type": "code",
   "execution_count": null,
   "metadata": {},
   "outputs": [],
   "source": []
  }
 ],
 "metadata": {
  "kernelspec": {
   "display_name": "Python 3",
   "language": "python",
   "name": "python3"
  },
  "language_info": {
   "codemirror_mode": {
    "name": "ipython",
    "version": 3
   },
   "file_extension": ".py",
   "mimetype": "text/x-python",
   "name": "python",
   "nbconvert_exporter": "python",
   "pygments_lexer": "ipython3",
   "version": "3.6.9"
  }
 },
 "nbformat": 4,
 "nbformat_minor": 4
}
